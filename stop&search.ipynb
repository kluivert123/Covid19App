{
 "cells": [
  {
   "cell_type": "code",
   "execution_count": 1,
   "id": "8a32fb8b-3f9c-43b6-8751-a7d82706dec2",
   "metadata": {},
   "outputs": [
    {
     "name": "stdout",
     "output_type": "stream",
     "text": [
      "200\n",
      "200\n",
      "200\n",
      "200\n",
      "200\n",
      "200\n",
      "200\n",
      "200\n",
      "200\n",
      "200\n",
      "200\n",
      "200\n"
     ]
    }
   ],
   "source": [
    "import requests\n",
    "import json\n",
    "import requests_cache\n",
    "\n",
    "session = requests_cache.CachedSession('demo_cache')\n",
    "for i in range(60):\n",
    "    session.get('https://data.police.uk/api/stops-force?force')\n",
    "\n",
    "\n",
    "#importing cleveland 2020\n",
    "stop1 =requests.get(\"https://data.police.uk/api/stops-force?force=cleveland&date=2020-01\")\n",
    "stop2 =requests.get(\"https://data.police.uk/api/stops-force?force=cleveland&date=2020-02\")\n",
    "stop3 =requests.get(\"https://data.police.uk/api/stops-force?force=cleveland&date=2020-03\")\n",
    "stop4 =requests.get(\"https://data.police.uk/api/stops-force?force=cleveland&date=2020-04\")\n",
    "stop5 =requests.get(\"https://data.police.uk/api/stops-force?force=cleveland&date=2020-05\")\n",
    "stop6 =requests.get(\"https://data.police.uk/api/stops-force?force=cleveland&date=2020-06\")\n",
    "stop7 =requests.get(\"https://data.police.uk/api/stops-force?force=cleveland&date=2020-07\")\n",
    "stop8 =requests.get(\"https://data.police.uk/api/stops-force?force=cleveland&date=2020-08\")\n",
    "stop9 =requests.get(\"https://data.police.uk/api/stops-force?force=cleveland&date=2020-09\")\n",
    "stop10 =requests.get(\"https://data.police.uk/api/stops-force?force=cleveland&date=2020-10\")\n",
    "stop11 =requests.get(\"https://data.police.uk/api/stops-force?force=cleveland&date=2020-11\")\n",
    "stop12 =requests.get(\"https://data.police.uk/api/stops-force?force=cleveland&date=2020-12\")\n",
    "print(stop1.status_code)\n",
    "print(stop2.status_code)\n",
    "print(stop3.status_code)\n",
    "print(stop4.status_code)\n",
    "print(stop5.status_code)\n",
    "print(stop6.status_code)\n",
    "print(stop7.status_code)\n",
    "print(stop8.status_code)\n",
    "print(stop9.status_code)\n",
    "print(stop10.status_code)\n",
    "print(stop11.status_code)\n",
    "print(stop12.status_code)"
   ]
  },
  {
   "cell_type": "code",
   "execution_count": 3,
   "id": "5a845495-7ca9-462d-8486-4464c529cf1f",
   "metadata": {},
   "outputs": [],
   "source": [
    "#changing the datasets into json files\n",
    "stop1 = stop1.json()\n",
    "stop2 = stop2.json()\n",
    "stop3 = stop3.json()\n",
    "stop4 = stop4.json()\n",
    "stop5 = stop5.json()\n",
    "stop6 = stop6.json()\n",
    "stop7 = stop7.json()\n",
    "stop8 = stop8.json()\n",
    "stop9 = stop9.json()\n",
    "stop10 = stop10.json()\n",
    "stop11 = stop11.json()\n",
    "stop12 = stop12.json()\n"
   ]
  },
  {
   "cell_type": "code",
   "execution_count": 4,
   "id": "236c07a2-422c-481d-bbc7-441fb5c45b49",
   "metadata": {},
   "outputs": [
    {
     "data": {
      "text/html": [
       "<div>\n",
       "<style scoped>\n",
       "    .dataframe tbody tr th:only-of-type {\n",
       "        vertical-align: middle;\n",
       "    }\n",
       "\n",
       "    .dataframe tbody tr th {\n",
       "        vertical-align: top;\n",
       "    }\n",
       "\n",
       "    .dataframe thead th {\n",
       "        text-align: right;\n",
       "    }\n",
       "</style>\n",
       "<table border=\"1\" class=\"dataframe\">\n",
       "  <thead>\n",
       "    <tr style=\"text-align: right;\">\n",
       "      <th></th>\n",
       "      <th>age_range</th>\n",
       "      <th>outcome</th>\n",
       "      <th>involved_person</th>\n",
       "      <th>self_defined_ethnicity</th>\n",
       "      <th>gender</th>\n",
       "      <th>legislation</th>\n",
       "      <th>outcome_linked_to_object_of_search</th>\n",
       "      <th>datetime</th>\n",
       "      <th>removal_of_more_than_outer_clothing</th>\n",
       "      <th>outcome_object</th>\n",
       "      <th>location</th>\n",
       "      <th>operation</th>\n",
       "      <th>officer_defined_ethnicity</th>\n",
       "      <th>type</th>\n",
       "      <th>operation_name</th>\n",
       "      <th>object_of_search</th>\n",
       "    </tr>\n",
       "  </thead>\n",
       "  <tbody>\n",
       "    <tr>\n",
       "      <th>0</th>\n",
       "      <td>25-34</td>\n",
       "      <td>Arrest</td>\n",
       "      <td>True</td>\n",
       "      <td>Other ethnic group - Not stated</td>\n",
       "      <td>Male</td>\n",
       "      <td>Misuse of Drugs Act 1971 (section 23)</td>\n",
       "      <td>True</td>\n",
       "      <td>2020-01-01T02:02:30+00:00</td>\n",
       "      <td>None</td>\n",
       "      <td>{'id': 'bu-arrest', 'name': 'Arrest'}</td>\n",
       "      <td>{'latitude': '54.569567', 'street': {'id': 591...</td>\n",
       "      <td>None</td>\n",
       "      <td>White</td>\n",
       "      <td>Person and Vehicle search</td>\n",
       "      <td>None</td>\n",
       "      <td>Controlled drugs</td>\n",
       "    </tr>\n",
       "    <tr>\n",
       "      <th>1</th>\n",
       "      <td>18-24</td>\n",
       "      <td>A no further action disposal</td>\n",
       "      <td>True</td>\n",
       "      <td>None</td>\n",
       "      <td>Male</td>\n",
       "      <td>Misuse of Drugs Act 1971 (section 23)</td>\n",
       "      <td>None</td>\n",
       "      <td>2020-01-01T03:03:15+00:00</td>\n",
       "      <td>None</td>\n",
       "      <td>{'id': 'bu-no-further-action', 'name': 'A no f...</td>\n",
       "      <td>{'latitude': '54.578138', 'street': {'id': 592...</td>\n",
       "      <td>None</td>\n",
       "      <td>None</td>\n",
       "      <td>Person search</td>\n",
       "      <td>None</td>\n",
       "      <td>Controlled drugs</td>\n",
       "    </tr>\n",
       "    <tr>\n",
       "      <th>2</th>\n",
       "      <td>18-24</td>\n",
       "      <td>A no further action disposal</td>\n",
       "      <td>True</td>\n",
       "      <td>None</td>\n",
       "      <td>Male</td>\n",
       "      <td>Misuse of Drugs Act 1971 (section 23)</td>\n",
       "      <td>None</td>\n",
       "      <td>2020-01-01T03:03:15+00:00</td>\n",
       "      <td>None</td>\n",
       "      <td>{'id': 'bu-no-further-action', 'name': 'A no f...</td>\n",
       "      <td>{'latitude': '54.578138', 'street': {'id': 592...</td>\n",
       "      <td>None</td>\n",
       "      <td>None</td>\n",
       "      <td>Person search</td>\n",
       "      <td>None</td>\n",
       "      <td>Controlled drugs</td>\n",
       "    </tr>\n",
       "    <tr>\n",
       "      <th>3</th>\n",
       "      <td>over 34</td>\n",
       "      <td>A no further action disposal</td>\n",
       "      <td>True</td>\n",
       "      <td>White - English/Welsh/Scottish/Northern Irish/...</td>\n",
       "      <td>Male</td>\n",
       "      <td>Misuse of Drugs Act 1971 (section 23)</td>\n",
       "      <td>None</td>\n",
       "      <td>2020-01-01T19:19:00+00:00</td>\n",
       "      <td>None</td>\n",
       "      <td>{'id': 'bu-no-further-action', 'name': 'A no f...</td>\n",
       "      <td>{'latitude': '54.570703', 'street': {'id': 592...</td>\n",
       "      <td>None</td>\n",
       "      <td>White</td>\n",
       "      <td>Person search</td>\n",
       "      <td>None</td>\n",
       "      <td>Controlled drugs</td>\n",
       "    </tr>\n",
       "    <tr>\n",
       "      <th>4</th>\n",
       "      <td>25-34</td>\n",
       "      <td>A no further action disposal</td>\n",
       "      <td>True</td>\n",
       "      <td>White - English/Welsh/Scottish/Northern Irish/...</td>\n",
       "      <td>Male</td>\n",
       "      <td>Police and Criminal Evidence Act 1984 (section 1)</td>\n",
       "      <td>None</td>\n",
       "      <td>2020-01-02T00:00:55+00:00</td>\n",
       "      <td>None</td>\n",
       "      <td>{'id': 'bu-no-further-action', 'name': 'A no f...</td>\n",
       "      <td>None</td>\n",
       "      <td>None</td>\n",
       "      <td>White</td>\n",
       "      <td>Person search</td>\n",
       "      <td>None</td>\n",
       "      <td>Evidence of offences under the Act</td>\n",
       "    </tr>\n",
       "  </tbody>\n",
       "</table>\n",
       "</div>"
      ],
      "text/plain": [
       "  age_range                       outcome  involved_person  \\\n",
       "0     25-34                        Arrest             True   \n",
       "1     18-24  A no further action disposal             True   \n",
       "2     18-24  A no further action disposal             True   \n",
       "3   over 34  A no further action disposal             True   \n",
       "4     25-34  A no further action disposal             True   \n",
       "\n",
       "                              self_defined_ethnicity gender  \\\n",
       "0                    Other ethnic group - Not stated   Male   \n",
       "1                                               None   Male   \n",
       "2                                               None   Male   \n",
       "3  White - English/Welsh/Scottish/Northern Irish/...   Male   \n",
       "4  White - English/Welsh/Scottish/Northern Irish/...   Male   \n",
       "\n",
       "                                         legislation  \\\n",
       "0              Misuse of Drugs Act 1971 (section 23)   \n",
       "1              Misuse of Drugs Act 1971 (section 23)   \n",
       "2              Misuse of Drugs Act 1971 (section 23)   \n",
       "3              Misuse of Drugs Act 1971 (section 23)   \n",
       "4  Police and Criminal Evidence Act 1984 (section 1)   \n",
       "\n",
       "  outcome_linked_to_object_of_search                   datetime  \\\n",
       "0                               True  2020-01-01T02:02:30+00:00   \n",
       "1                               None  2020-01-01T03:03:15+00:00   \n",
       "2                               None  2020-01-01T03:03:15+00:00   \n",
       "3                               None  2020-01-01T19:19:00+00:00   \n",
       "4                               None  2020-01-02T00:00:55+00:00   \n",
       "\n",
       "  removal_of_more_than_outer_clothing  \\\n",
       "0                                None   \n",
       "1                                None   \n",
       "2                                None   \n",
       "3                                None   \n",
       "4                                None   \n",
       "\n",
       "                                      outcome_object  \\\n",
       "0              {'id': 'bu-arrest', 'name': 'Arrest'}   \n",
       "1  {'id': 'bu-no-further-action', 'name': 'A no f...   \n",
       "2  {'id': 'bu-no-further-action', 'name': 'A no f...   \n",
       "3  {'id': 'bu-no-further-action', 'name': 'A no f...   \n",
       "4  {'id': 'bu-no-further-action', 'name': 'A no f...   \n",
       "\n",
       "                                            location operation  \\\n",
       "0  {'latitude': '54.569567', 'street': {'id': 591...      None   \n",
       "1  {'latitude': '54.578138', 'street': {'id': 592...      None   \n",
       "2  {'latitude': '54.578138', 'street': {'id': 592...      None   \n",
       "3  {'latitude': '54.570703', 'street': {'id': 592...      None   \n",
       "4                                               None      None   \n",
       "\n",
       "  officer_defined_ethnicity                       type operation_name  \\\n",
       "0                     White  Person and Vehicle search           None   \n",
       "1                      None              Person search           None   \n",
       "2                      None              Person search           None   \n",
       "3                     White              Person search           None   \n",
       "4                     White              Person search           None   \n",
       "\n",
       "                     object_of_search  \n",
       "0                    Controlled drugs  \n",
       "1                    Controlled drugs  \n",
       "2                    Controlled drugs  \n",
       "3                    Controlled drugs  \n",
       "4  Evidence of offences under the Act  "
      ]
     },
     "execution_count": 4,
     "metadata": {},
     "output_type": "execute_result"
    }
   ],
   "source": [
    "#changing it to a dataframe\n",
    "from pandas import *\n",
    "df1 = DataFrame(stop1)\n",
    "df2 = DataFrame(stop2)\n",
    "df3 = DataFrame(stop3)\n",
    "df4 = DataFrame(stop4)\n",
    "df5 = DataFrame(stop5)\n",
    "df6 = DataFrame(stop6)\n",
    "df7 = DataFrame(stop7)\n",
    "df8 = DataFrame(stop8)\n",
    "df9 = DataFrame(stop9)\n",
    "df10 = DataFrame(stop10)\n",
    "df11 = DataFrame(stop11)\n",
    "df12 = DataFrame(stop12)\n",
    "df1.head()"
   ]
  },
  {
   "cell_type": "code",
   "execution_count": 5,
   "id": "f756d9b0-cf1a-4eb7-91e9-67a26ddb21f5",
   "metadata": {},
   "outputs": [
    {
     "data": {
      "text/html": [
       "<div>\n",
       "<style scoped>\n",
       "    .dataframe tbody tr th:only-of-type {\n",
       "        vertical-align: middle;\n",
       "    }\n",
       "\n",
       "    .dataframe tbody tr th {\n",
       "        vertical-align: top;\n",
       "    }\n",
       "\n",
       "    .dataframe thead th {\n",
       "        text-align: right;\n",
       "    }\n",
       "</style>\n",
       "<table border=\"1\" class=\"dataframe\">\n",
       "  <thead>\n",
       "    <tr style=\"text-align: right;\">\n",
       "      <th></th>\n",
       "      <th>age_range</th>\n",
       "      <th>outcome</th>\n",
       "      <th>involved_person</th>\n",
       "      <th>self_defined_ethnicity</th>\n",
       "      <th>gender</th>\n",
       "      <th>legislation</th>\n",
       "      <th>outcome_linked_to_object_of_search</th>\n",
       "      <th>datetime</th>\n",
       "      <th>removal_of_more_than_outer_clothing</th>\n",
       "      <th>outcome_object</th>\n",
       "      <th>location</th>\n",
       "      <th>operation</th>\n",
       "      <th>officer_defined_ethnicity</th>\n",
       "      <th>type</th>\n",
       "      <th>operation_name</th>\n",
       "      <th>object_of_search</th>\n",
       "    </tr>\n",
       "  </thead>\n",
       "  <tbody>\n",
       "    <tr>\n",
       "      <th>0</th>\n",
       "      <td>25-34</td>\n",
       "      <td>Arrest</td>\n",
       "      <td>True</td>\n",
       "      <td>Other ethnic group - Not stated</td>\n",
       "      <td>Male</td>\n",
       "      <td>Misuse of Drugs Act 1971 (section 23)</td>\n",
       "      <td>True</td>\n",
       "      <td>2020-01-01 02:02:30+00:00</td>\n",
       "      <td>None</td>\n",
       "      <td>{'id': 'bu-arrest', 'name': 'Arrest'}</td>\n",
       "      <td>{'latitude': '54.569567', 'street': {'id': 591...</td>\n",
       "      <td>None</td>\n",
       "      <td>White</td>\n",
       "      <td>Person and Vehicle search</td>\n",
       "      <td>None</td>\n",
       "      <td>Controlled drugs</td>\n",
       "    </tr>\n",
       "    <tr>\n",
       "      <th>1</th>\n",
       "      <td>18-24</td>\n",
       "      <td>A no further action disposal</td>\n",
       "      <td>True</td>\n",
       "      <td>None</td>\n",
       "      <td>Male</td>\n",
       "      <td>Misuse of Drugs Act 1971 (section 23)</td>\n",
       "      <td>None</td>\n",
       "      <td>2020-01-01 03:03:15+00:00</td>\n",
       "      <td>None</td>\n",
       "      <td>{'id': 'bu-no-further-action', 'name': 'A no f...</td>\n",
       "      <td>{'latitude': '54.578138', 'street': {'id': 592...</td>\n",
       "      <td>None</td>\n",
       "      <td>None</td>\n",
       "      <td>Person search</td>\n",
       "      <td>None</td>\n",
       "      <td>Controlled drugs</td>\n",
       "    </tr>\n",
       "    <tr>\n",
       "      <th>2</th>\n",
       "      <td>18-24</td>\n",
       "      <td>A no further action disposal</td>\n",
       "      <td>True</td>\n",
       "      <td>None</td>\n",
       "      <td>Male</td>\n",
       "      <td>Misuse of Drugs Act 1971 (section 23)</td>\n",
       "      <td>None</td>\n",
       "      <td>2020-01-01 03:03:15+00:00</td>\n",
       "      <td>None</td>\n",
       "      <td>{'id': 'bu-no-further-action', 'name': 'A no f...</td>\n",
       "      <td>{'latitude': '54.578138', 'street': {'id': 592...</td>\n",
       "      <td>None</td>\n",
       "      <td>None</td>\n",
       "      <td>Person search</td>\n",
       "      <td>None</td>\n",
       "      <td>Controlled drugs</td>\n",
       "    </tr>\n",
       "    <tr>\n",
       "      <th>3</th>\n",
       "      <td>over 34</td>\n",
       "      <td>A no further action disposal</td>\n",
       "      <td>True</td>\n",
       "      <td>White - English/Welsh/Scottish/Northern Irish/...</td>\n",
       "      <td>Male</td>\n",
       "      <td>Misuse of Drugs Act 1971 (section 23)</td>\n",
       "      <td>None</td>\n",
       "      <td>2020-01-01 19:19:00+00:00</td>\n",
       "      <td>None</td>\n",
       "      <td>{'id': 'bu-no-further-action', 'name': 'A no f...</td>\n",
       "      <td>{'latitude': '54.570703', 'street': {'id': 592...</td>\n",
       "      <td>None</td>\n",
       "      <td>White</td>\n",
       "      <td>Person search</td>\n",
       "      <td>None</td>\n",
       "      <td>Controlled drugs</td>\n",
       "    </tr>\n",
       "    <tr>\n",
       "      <th>4</th>\n",
       "      <td>25-34</td>\n",
       "      <td>A no further action disposal</td>\n",
       "      <td>True</td>\n",
       "      <td>White - English/Welsh/Scottish/Northern Irish/...</td>\n",
       "      <td>Male</td>\n",
       "      <td>Police and Criminal Evidence Act 1984 (section 1)</td>\n",
       "      <td>None</td>\n",
       "      <td>2020-01-02 00:00:55+00:00</td>\n",
       "      <td>None</td>\n",
       "      <td>{'id': 'bu-no-further-action', 'name': 'A no f...</td>\n",
       "      <td>None</td>\n",
       "      <td>None</td>\n",
       "      <td>White</td>\n",
       "      <td>Person search</td>\n",
       "      <td>None</td>\n",
       "      <td>Evidence of offences under the Act</td>\n",
       "    </tr>\n",
       "  </tbody>\n",
       "</table>\n",
       "</div>"
      ],
      "text/plain": [
       "  age_range                       outcome  involved_person  \\\n",
       "0     25-34                        Arrest             True   \n",
       "1     18-24  A no further action disposal             True   \n",
       "2     18-24  A no further action disposal             True   \n",
       "3   over 34  A no further action disposal             True   \n",
       "4     25-34  A no further action disposal             True   \n",
       "\n",
       "                              self_defined_ethnicity gender  \\\n",
       "0                    Other ethnic group - Not stated   Male   \n",
       "1                                               None   Male   \n",
       "2                                               None   Male   \n",
       "3  White - English/Welsh/Scottish/Northern Irish/...   Male   \n",
       "4  White - English/Welsh/Scottish/Northern Irish/...   Male   \n",
       "\n",
       "                                         legislation  \\\n",
       "0              Misuse of Drugs Act 1971 (section 23)   \n",
       "1              Misuse of Drugs Act 1971 (section 23)   \n",
       "2              Misuse of Drugs Act 1971 (section 23)   \n",
       "3              Misuse of Drugs Act 1971 (section 23)   \n",
       "4  Police and Criminal Evidence Act 1984 (section 1)   \n",
       "\n",
       "  outcome_linked_to_object_of_search                  datetime  \\\n",
       "0                               True 2020-01-01 02:02:30+00:00   \n",
       "1                               None 2020-01-01 03:03:15+00:00   \n",
       "2                               None 2020-01-01 03:03:15+00:00   \n",
       "3                               None 2020-01-01 19:19:00+00:00   \n",
       "4                               None 2020-01-02 00:00:55+00:00   \n",
       "\n",
       "  removal_of_more_than_outer_clothing  \\\n",
       "0                                None   \n",
       "1                                None   \n",
       "2                                None   \n",
       "3                                None   \n",
       "4                                None   \n",
       "\n",
       "                                      outcome_object  \\\n",
       "0              {'id': 'bu-arrest', 'name': 'Arrest'}   \n",
       "1  {'id': 'bu-no-further-action', 'name': 'A no f...   \n",
       "2  {'id': 'bu-no-further-action', 'name': 'A no f...   \n",
       "3  {'id': 'bu-no-further-action', 'name': 'A no f...   \n",
       "4  {'id': 'bu-no-further-action', 'name': 'A no f...   \n",
       "\n",
       "                                            location operation  \\\n",
       "0  {'latitude': '54.569567', 'street': {'id': 591...      None   \n",
       "1  {'latitude': '54.578138', 'street': {'id': 592...      None   \n",
       "2  {'latitude': '54.578138', 'street': {'id': 592...      None   \n",
       "3  {'latitude': '54.570703', 'street': {'id': 592...      None   \n",
       "4                                               None      None   \n",
       "\n",
       "  officer_defined_ethnicity                       type operation_name  \\\n",
       "0                     White  Person and Vehicle search           None   \n",
       "1                      None              Person search           None   \n",
       "2                      None              Person search           None   \n",
       "3                     White              Person search           None   \n",
       "4                     White              Person search           None   \n",
       "\n",
       "                     object_of_search  \n",
       "0                    Controlled drugs  \n",
       "1                    Controlled drugs  \n",
       "2                    Controlled drugs  \n",
       "3                    Controlled drugs  \n",
       "4  Evidence of offences under the Act  "
      ]
     },
     "execution_count": 5,
     "metadata": {},
     "output_type": "execute_result"
    }
   ],
   "source": [
    "#combining the dataframes\n",
    "df_cleveland = concat([df1,df2,df3,df4,df5,df6,df7,df8,df9,df10,df11,df12], axis = 0)\n",
    "df_cleveland[\"datetime\"]=to_datetime(df_cleveland[\"datetime\"])\n",
    "df_cleveland.head()"
   ]
  },
  {
   "cell_type": "code",
   "execution_count": 7,
   "id": "fe146418-204b-4a20-9108-128fd7f74266",
   "metadata": {},
   "outputs": [
    {
     "data": {
      "text/plain": [
       "age_range                               601\n",
       "outcome                                   0\n",
       "involved_person                           0\n",
       "self_defined_ethnicity                 1058\n",
       "gender                                  591\n",
       "legislation                              85\n",
       "outcome_linked_to_object_of_search     4000\n",
       "datetime                                  0\n",
       "removal_of_more_than_outer_clothing    5140\n",
       "outcome_object                            0\n",
       "location                               2571\n",
       "operation                              5140\n",
       "officer_defined_ethnicity               896\n",
       "type                                      0\n",
       "operation_name                         5140\n",
       "object_of_search                        138\n",
       "dtype: int64"
      ]
     },
     "execution_count": 7,
     "metadata": {},
     "output_type": "execute_result"
    }
   ],
   "source": [
    "df_cleveland.isnull().sum()"
   ]
  },
  {
   "cell_type": "code",
   "execution_count": 11,
   "id": "73aeb54f-fc5a-4372-b2f6-b5be9ea5f0ab",
   "metadata": {},
   "outputs": [
    {
     "data": {
      "text/html": [
       "<div>\n",
       "<style scoped>\n",
       "    .dataframe tbody tr th:only-of-type {\n",
       "        vertical-align: middle;\n",
       "    }\n",
       "\n",
       "    .dataframe tbody tr th {\n",
       "        vertical-align: top;\n",
       "    }\n",
       "\n",
       "    .dataframe thead th {\n",
       "        text-align: right;\n",
       "    }\n",
       "</style>\n",
       "<table border=\"1\" class=\"dataframe\">\n",
       "  <thead>\n",
       "    <tr style=\"text-align: right;\">\n",
       "      <th></th>\n",
       "      <th>age_range</th>\n",
       "      <th>outcome</th>\n",
       "      <th>involved_person</th>\n",
       "      <th>self_defined_ethnicity</th>\n",
       "      <th>gender</th>\n",
       "      <th>legislation</th>\n",
       "      <th>outcome_linked_to_object_of_search</th>\n",
       "      <th>datetime</th>\n",
       "      <th>removal_of_more_than_outer_clothing</th>\n",
       "      <th>outcome_object</th>\n",
       "      <th>location</th>\n",
       "      <th>operation</th>\n",
       "      <th>officer_defined_ethnicity</th>\n",
       "      <th>type</th>\n",
       "      <th>operation_name</th>\n",
       "      <th>object_of_search</th>\n",
       "    </tr>\n",
       "  </thead>\n",
       "  <tbody>\n",
       "    <tr>\n",
       "      <th>567</th>\n",
       "      <td>18-24</td>\n",
       "      <td>A no further action disposal</td>\n",
       "      <td>True</td>\n",
       "      <td>White - Any other White background</td>\n",
       "      <td>Male</td>\n",
       "      <td>Misuse of Drugs Act 1971 (section 23)</td>\n",
       "      <td>None</td>\n",
       "      <td>2020-12-31 20:20:20+00:00</td>\n",
       "      <td>None</td>\n",
       "      <td>{'id': 'bu-no-further-action', 'name': 'A no f...</td>\n",
       "      <td>None</td>\n",
       "      <td>None</td>\n",
       "      <td>White</td>\n",
       "      <td>Person search</td>\n",
       "      <td>None</td>\n",
       "      <td>Controlled drugs</td>\n",
       "    </tr>\n",
       "    <tr>\n",
       "      <th>568</th>\n",
       "      <td>18-24</td>\n",
       "      <td>Arrest</td>\n",
       "      <td>True</td>\n",
       "      <td>White - Any other White background</td>\n",
       "      <td>None</td>\n",
       "      <td>Misuse of Drugs Act 1971 (section 23)</td>\n",
       "      <td>True</td>\n",
       "      <td>2020-12-31 20:20:20+00:00</td>\n",
       "      <td>None</td>\n",
       "      <td>{'id': 'bu-arrest', 'name': 'Arrest'}</td>\n",
       "      <td>None</td>\n",
       "      <td>None</td>\n",
       "      <td>White</td>\n",
       "      <td>Person search</td>\n",
       "      <td>None</td>\n",
       "      <td>Controlled drugs</td>\n",
       "    </tr>\n",
       "    <tr>\n",
       "      <th>569</th>\n",
       "      <td>25-34</td>\n",
       "      <td>A no further action disposal</td>\n",
       "      <td>True</td>\n",
       "      <td>None</td>\n",
       "      <td>Male</td>\n",
       "      <td>Police and Criminal Evidence Act 1984 (section 1)</td>\n",
       "      <td>None</td>\n",
       "      <td>2020-12-31 23:23:30+00:00</td>\n",
       "      <td>None</td>\n",
       "      <td>{'id': 'bu-no-further-action', 'name': 'A no f...</td>\n",
       "      <td>{'latitude': '54.613600', 'street': {'id': 594...</td>\n",
       "      <td>None</td>\n",
       "      <td>White</td>\n",
       "      <td>Person search</td>\n",
       "      <td>None</td>\n",
       "      <td>Article for use in theft</td>\n",
       "    </tr>\n",
       "    <tr>\n",
       "      <th>570</th>\n",
       "      <td>over 34</td>\n",
       "      <td>A no further action disposal</td>\n",
       "      <td>True</td>\n",
       "      <td>None</td>\n",
       "      <td>Male</td>\n",
       "      <td>Misuse of Drugs Act 1971 (section 23)</td>\n",
       "      <td>None</td>\n",
       "      <td>2020-12-31 23:23:50+00:00</td>\n",
       "      <td>None</td>\n",
       "      <td>{'id': 'bu-no-further-action', 'name': 'A no f...</td>\n",
       "      <td>{'latitude': '54.572977', 'street': {'id': 592...</td>\n",
       "      <td>None</td>\n",
       "      <td>White</td>\n",
       "      <td>Person search</td>\n",
       "      <td>None</td>\n",
       "      <td>Anything to threaten or harm anyone</td>\n",
       "    </tr>\n",
       "    <tr>\n",
       "      <th>571</th>\n",
       "      <td>25-34</td>\n",
       "      <td>A no further action disposal</td>\n",
       "      <td>True</td>\n",
       "      <td>None</td>\n",
       "      <td>Male</td>\n",
       "      <td>Police and Criminal Evidence Act 1984 (section 1)</td>\n",
       "      <td>None</td>\n",
       "      <td>2020-12-31 23:23:50+00:00</td>\n",
       "      <td>None</td>\n",
       "      <td>{'id': 'bu-no-further-action', 'name': 'A no f...</td>\n",
       "      <td>{'latitude': '54.613600', 'street': {'id': 594...</td>\n",
       "      <td>None</td>\n",
       "      <td>White</td>\n",
       "      <td>Person search</td>\n",
       "      <td>None</td>\n",
       "      <td>None</td>\n",
       "    </tr>\n",
       "  </tbody>\n",
       "</table>\n",
       "</div>"
      ],
      "text/plain": [
       "    age_range                       outcome  involved_person  \\\n",
       "567     18-24  A no further action disposal             True   \n",
       "568     18-24                        Arrest             True   \n",
       "569     25-34  A no further action disposal             True   \n",
       "570   over 34  A no further action disposal             True   \n",
       "571     25-34  A no further action disposal             True   \n",
       "\n",
       "                 self_defined_ethnicity gender  \\\n",
       "567  White - Any other White background   Male   \n",
       "568  White - Any other White background   None   \n",
       "569                                None   Male   \n",
       "570                                None   Male   \n",
       "571                                None   Male   \n",
       "\n",
       "                                           legislation  \\\n",
       "567              Misuse of Drugs Act 1971 (section 23)   \n",
       "568              Misuse of Drugs Act 1971 (section 23)   \n",
       "569  Police and Criminal Evidence Act 1984 (section 1)   \n",
       "570              Misuse of Drugs Act 1971 (section 23)   \n",
       "571  Police and Criminal Evidence Act 1984 (section 1)   \n",
       "\n",
       "    outcome_linked_to_object_of_search                  datetime  \\\n",
       "567                               None 2020-12-31 20:20:20+00:00   \n",
       "568                               True 2020-12-31 20:20:20+00:00   \n",
       "569                               None 2020-12-31 23:23:30+00:00   \n",
       "570                               None 2020-12-31 23:23:50+00:00   \n",
       "571                               None 2020-12-31 23:23:50+00:00   \n",
       "\n",
       "    removal_of_more_than_outer_clothing  \\\n",
       "567                                None   \n",
       "568                                None   \n",
       "569                                None   \n",
       "570                                None   \n",
       "571                                None   \n",
       "\n",
       "                                        outcome_object  \\\n",
       "567  {'id': 'bu-no-further-action', 'name': 'A no f...   \n",
       "568              {'id': 'bu-arrest', 'name': 'Arrest'}   \n",
       "569  {'id': 'bu-no-further-action', 'name': 'A no f...   \n",
       "570  {'id': 'bu-no-further-action', 'name': 'A no f...   \n",
       "571  {'id': 'bu-no-further-action', 'name': 'A no f...   \n",
       "\n",
       "                                              location operation  \\\n",
       "567                                               None      None   \n",
       "568                                               None      None   \n",
       "569  {'latitude': '54.613600', 'street': {'id': 594...      None   \n",
       "570  {'latitude': '54.572977', 'street': {'id': 592...      None   \n",
       "571  {'latitude': '54.613600', 'street': {'id': 594...      None   \n",
       "\n",
       "    officer_defined_ethnicity           type operation_name  \\\n",
       "567                     White  Person search           None   \n",
       "568                     White  Person search           None   \n",
       "569                     White  Person search           None   \n",
       "570                     White  Person search           None   \n",
       "571                     White  Person search           None   \n",
       "\n",
       "                        object_of_search  \n",
       "567                     Controlled drugs  \n",
       "568                     Controlled drugs  \n",
       "569             Article for use in theft  \n",
       "570  Anything to threaten or harm anyone  \n",
       "571                                 None  "
      ]
     },
     "execution_count": 11,
     "metadata": {},
     "output_type": "execute_result"
    }
   ],
   "source": [
    "df_cleveland.tail()"
   ]
  },
  {
   "cell_type": "code",
   "execution_count": 5,
   "id": "191c4b23-417a-48fa-bf1e-27cf4eda4d44",
   "metadata": {},
   "outputs": [],
   "source": [
    "#df[\"DOW\"] = df[\"datetime\"].dt.day_name()\n",
    "df_cleveland[\"Day\"] = df_cleveland[\"datetime\"].dt.day\n",
    "df_cleveland[\"Month\"] = df_cleveland[\"datetime\"].dt.month_name()\n",
    "df_cleveland[\"Year\"] = df_cleveland[\"datetime\"].dt.year"
   ]
  },
  {
   "cell_type": "code",
   "execution_count": 13,
   "id": "bde9f1c8-f815-43e0-b2e3-22973f381895",
   "metadata": {},
   "outputs": [
    {
     "data": {
      "text/plain": [
       "age_range                                           object\n",
       "outcome                                             object\n",
       "involved_person                                       bool\n",
       "self_defined_ethnicity                              object\n",
       "gender                                              object\n",
       "legislation                                         object\n",
       "outcome_linked_to_object_of_search                  object\n",
       "datetime                               datetime64[ns, UTC]\n",
       "removal_of_more_than_outer_clothing                 object\n",
       "outcome_object                                      object\n",
       "location                                            object\n",
       "operation                                           object\n",
       "officer_defined_ethnicity                           object\n",
       "type                                                object\n",
       "operation_name                                      object\n",
       "object_of_search                                    object\n",
       "Day                                                  int64\n",
       "Month                                               object\n",
       "Year                                                 int64\n",
       "dtype: object"
      ]
     },
     "execution_count": 13,
     "metadata": {},
     "output_type": "execute_result"
    }
   ],
   "source": [
    "df_cleveland.dtypes"
   ]
  },
  {
   "cell_type": "code",
   "execution_count": 14,
   "id": "b7c652b4-89a3-47ed-bf26-e6866d4c5417",
   "metadata": {},
   "outputs": [
    {
     "data": {
      "text/plain": [
       "Index(['age_range', 'outcome', 'involved_person', 'self_defined_ethnicity',\n",
       "       'gender', 'legislation', 'outcome_linked_to_object_of_search',\n",
       "       'datetime', 'removal_of_more_than_outer_clothing', 'outcome_object',\n",
       "       'location', 'operation', 'officer_defined_ethnicity', 'type',\n",
       "       'operation_name', 'object_of_search', 'Day', 'Month', 'Year'],\n",
       "      dtype='object')"
      ]
     },
     "execution_count": 14,
     "metadata": {},
     "output_type": "execute_result"
    }
   ],
   "source": [
    "df_cleveland.columns"
   ]
  },
  {
   "cell_type": "code",
   "execution_count": 6,
   "id": "92463631-9913-4df5-8da3-b5ae76c718f9",
   "metadata": {},
   "outputs": [
    {
     "data": {
      "text/plain": [
       "Month\n",
       "April       386\n",
       "August      403\n",
       "December    490\n",
       "February    129\n",
       "January     175\n",
       "Name: age_range, dtype: int64"
      ]
     },
     "execution_count": 6,
     "metadata": {},
     "output_type": "execute_result"
    }
   ],
   "source": [
    "group = df_cleveland.groupby([\"Month\"])[\"age_range\"].count()\n",
    "group.head()"
   ]
  },
  {
   "cell_type": "code",
   "execution_count": 7,
   "id": "55206c77-1621-4470-86de-6c3a324440e4",
   "metadata": {},
   "outputs": [
    {
     "data": {
      "text/plain": [
       "<AxesSubplot:ylabel='Month'>"
      ]
     },
     "execution_count": 7,
     "metadata": {},
     "output_type": "execute_result"
    },
    {
     "data": {
      "image/png": "[encoded data removed]",
      "text/plain": [
       "<Figure size 504x504 with 1 Axes>"
      ]
     },
     "metadata": {},
     "output_type": "display_data"
    }
   ],
   "source": [
    "# Plotting stop and searches by months\n",
    "%matplotlib inline\n",
    "from matplotlib.pyplot import *\n",
    "#set style\n",
    "style.use(\"ggplot\")\n",
    "\n",
    "#create figure and axis\n",
    "fig, ax0 = subplots(figsize = (7,7))\n",
    "\n",
    "#setting x-axis as a date\n",
    "#ax0.xaxis_date()\n",
    "group.plot(kind = \"barh\", x = \"age_range\", ax = ax0)"
   ]
  },
  {
   "cell_type": "code",
   "execution_count": 9,
   "id": "ad19d51c-d512-49f2-8c94-344f26bcfd50",
   "metadata": {},
   "outputs": [
    {
     "data": {
      "text/plain": [
       "over 34     1666\n",
       "25-34       1312\n",
       "18-24        952\n",
       "10-17        608\n",
       "under 10       1\n",
       "Name: age_range, dtype: int64"
      ]
     },
     "execution_count": 9,
     "metadata": {},
     "output_type": "execute_result"
    }
   ],
   "source": [
    "df_cleveland_counts = df_cleveland[\"age_range\"].value_counts()\n",
    "df_cleveland_counts"
   ]
  },
  {
   "cell_type": "code",
   "execution_count": 10,
   "id": "de2e5ec6-1ba7-4b7a-9e50-9884b22d5398",
   "metadata": {},
   "outputs": [
    {
     "data": {
      "text/plain": [
       "<AxesSubplot:>"
      ]
     },
     "execution_count": 10,
     "metadata": {},
     "output_type": "execute_result"
    },
    {
     "data": {
      "image/png": "[encoded data removed]",
      "text/plain": [
       "<Figure size 504x504 with 1 Axes>"
      ]
     },
     "metadata": {},
     "output_type": "display_data"
    }
   ],
   "source": [
    "#stop and search by age range\n",
    "%matplotlib inline\n",
    "from matplotlib.pyplot import *\n",
    "#set style\n",
    "style.use(\"ggplot\")\n",
    "\n",
    "#create figure and axis\n",
    "fig, ax0 = subplots(figsize = (7,7))\n",
    "\n",
    "#setting x-axis as a date\n",
    "#ax0.xaxis_date()\n",
    "df_cleveland_counts.plot(kind = \"barh\", x = \"age_range\", ax = ax0)"
   ]
  },
  {
   "cell_type": "code",
   "execution_count": 3,
   "id": "418c3286-0ce5-4126-a171-0d6cfa853e43",
   "metadata": {},
   "outputs": [
    {
     "name": "stdout",
     "output_type": "stream",
     "text": [
      "200\n"
     ]
    }
   ],
   "source": [
    "import requests\n",
    "import json\n",
    "from pandas import *\n",
    "stop =requests.get(\"https://data.police.uk/api/forces\")\n",
    "print(stop.status_code)\n"
   ]
  },
  {
   "cell_type": "code",
   "execution_count": 11,
   "id": "98d816e0-2cfc-4277-8e5c-98e522309626",
   "metadata": {},
   "outputs": [
    {
     "data": {
      "text/plain": [
       "Controlled drugs                       3164\n",
       "Article for use in theft                598\n",
       "Offensive weapons                       513\n",
       "Anything to threaten or harm anyone     254\n",
       "Stolen goods                            211\n",
       "Articles for use in criminal damage     134\n",
       "Evidence of offences under the Act       85\n",
       "Firearms                                 39\n",
       "Psychoactive substances                   3\n",
       "Crossbows                                 1\n",
       "Name: object_of_search, dtype: int64"
      ]
     },
     "execution_count": 11,
     "metadata": {},
     "output_type": "execute_result"
    }
   ],
   "source": [
    "df_object_counts = df_cleveland[\"object_of_search\"].value_counts()\n",
    "df_object_counts"
   ]
  },
  {
   "cell_type": "code",
   "execution_count": 13,
   "id": "9f78b3e5-ddfb-42ba-93b7-573e6420a18a",
   "metadata": {},
   "outputs": [
    {
     "data": {
      "text/plain": [
       "<AxesSubplot:>"
      ]
     },
     "execution_count": 13,
     "metadata": {},
     "output_type": "execute_result"
    },
    {
     "data": {
      "image/png": "[encoded data removed]",
      "text/plain": [
       "<Figure size 504x504 with 1 Axes>"
      ]
     },
     "metadata": {},
     "output_type": "display_data"
    }
   ],
   "source": [
    "#objects of search by cleveland police\n",
    "%matplotlib inline\n",
    "from matplotlib.pyplot import *\n",
    "#set style\n",
    "style.use(\"ggplot\")\n",
    "\n",
    "#create figure and axis\n",
    "fig, ax0 = subplots(figsize = (7,7))\n",
    "\n",
    "#setting x-axis as a date\n",
    "#ax0.xaxis_date()\n",
    "df_object_counts.plot(kind = \"barh\", x = \"object_of_search\", ax = ax0)"
   ]
  },
  {
   "cell_type": "code",
   "execution_count": 15,
   "id": "4e6b9d90-36dc-4e96-b962-f80442e435e3",
   "metadata": {},
   "outputs": [
    {
     "data": {
      "text/plain": [
       "Male      4027\n",
       "Female     522\n",
       "Name: gender, dtype: int64"
      ]
     },
     "execution_count": 15,
     "metadata": {},
     "output_type": "execute_result"
    }
   ],
   "source": [
    "df_gender_counts = df_cleveland[\"gender\"].value_counts()\n",
    "df_gender_counts"
   ]
  },
  {
   "cell_type": "code",
   "execution_count": 17,
   "id": "7db0478d-5828-4a4f-9d50-ab18c6b8b654",
   "metadata": {},
   "outputs": [
    {
     "data": {
      "text/plain": [
       "<AxesSubplot:>"
      ]
     },
     "execution_count": 17,
     "metadata": {},
     "output_type": "execute_result"
    },
    {
     "data": {
      "image/png": "[encoded data removed]",
      "text/plain": [
       "<Figure size 504x504 with 1 Axes>"
      ]
     },
     "metadata": {},
     "output_type": "display_data"
    }
   ],
   "source": [
    "#objects of search by cleveland police\n",
    "%matplotlib inline\n",
    "from matplotlib.pyplot import *\n",
    "#set style\n",
    "style.use(\"ggplot\")\n",
    "\n",
    "#create figure and axis\n",
    "fig, ax0 = subplots(figsize = (7,7))\n",
    "\n",
    "#setting x-axis as a date\n",
    "#ax0.xaxis_date()\n",
    "df_gender_counts.plot(kind = \"barh\", x = \"object_of_search\", ax = ax0)"
   ]
  },
  {
   "cell_type": "code",
   "execution_count": 21,
   "id": "67a82b5e-4c90-4755-b4d8-38767d72748c",
   "metadata": {},
   "outputs": [
    {
     "data": {
      "text/plain": [
       "White - English/Welsh/Scottish/Northern Irish/British                                   3662\n",
       "Asian/Asian British - Any other Asian background                                         101\n",
       "White - Any other White background                                                        62\n",
       "Other ethnic group - Not stated                                                           52\n",
       "Asian/Asian British - Pakistani                                                           51\n",
       "Mixed/Multiple ethnic groups - Any other Mixed/Multiple ethnic background                 36\n",
       "Black/African/Caribbean/Black British - Any other Black/African/Caribbean background      34\n",
       "Black/African/Caribbean/Black British - African                                           32\n",
       "Mixed/Multiple ethnic groups - White and Black Caribbean                                  16\n",
       "Mixed/Multiple ethnic groups - White and Asian                                            11\n",
       "Asian/Asian British - Indian                                                               9\n",
       "Black/African/Caribbean/Black British - Caribbean                                          7\n",
       "White - Irish                                                                              5\n",
       "Asian/Asian British - Bangladeshi                                                          4\n",
       "Name: self_defined_ethnicity, dtype: int64"
      ]
     },
     "execution_count": 21,
     "metadata": {},
     "output_type": "execute_result"
    }
   ],
   "source": [
    "df_ethnic_counts = df_cleveland[\"self_defined_ethnicity\"].value_counts()\n",
    "df_ethnic_counts"
   ]
  },
  {
   "cell_type": "code",
   "execution_count": 22,
   "id": "605f3fcc-2e2c-4b24-93bc-b049aa53cb01",
   "metadata": {},
   "outputs": [
    {
     "data": {
      "text/plain": [
       "<AxesSubplot:>"
      ]
     },
     "execution_count": 22,
     "metadata": {},
     "output_type": "execute_result"
    },
    {
     "data": {
      "image/png": "[encoded data removed]",
      "text/plain": [
       "<Figure size 504x504 with 1 Axes>"
      ]
     },
     "metadata": {},
     "output_type": "display_data"
    }
   ],
   "source": [
    "#objects of search by cleveland police\n",
    "%matplotlib inline\n",
    "from matplotlib.pyplot import *\n",
    "#set style\n",
    "style.use(\"ggplot\")\n",
    "\n",
    "#create figure and axis\n",
    "fig, ax0 = subplots(figsize = (7,7))\n",
    "\n",
    "#setting x-axis as a date\n",
    "#ax0.xaxis_date()\n",
    "df_ethnic_counts.plot(kind = \"barh\", x = \"object_of_search\", ax = ax0)"
   ]
  },
  {
   "cell_type": "code",
   "execution_count": 23,
   "id": "7e39a91a-f244-4445-b5e7-401c9a256560",
   "metadata": {},
   "outputs": [
    {
     "data": {
      "text/plain": [
       "A no further action disposal       3813\n",
       "Arrest                              617\n",
       "                                    370\n",
       "Khat or Cannabis warning            225\n",
       "Community resolution                 59\n",
       "Summons / charged by post            35\n",
       "Caution (simple or conditional)      20\n",
       "Penalty Notice for Disorder           1\n",
       "Name: outcome, dtype: int64"
      ]
     },
     "execution_count": 23,
     "metadata": {},
     "output_type": "execute_result"
    }
   ],
   "source": [
    "df_outcome_counts = df_cleveland[\"outcome\"].value_counts()\n",
    "df_outcome_counts"
   ]
  },
  {
   "cell_type": "code",
   "execution_count": 25,
   "id": "a33f0919-13d5-45fe-9a83-1586ad3f3e2c",
   "metadata": {},
   "outputs": [
    {
     "data": {
      "text/plain": [
       "<AxesSubplot:>"
      ]
     },
     "execution_count": 25,
     "metadata": {},
     "output_type": "execute_result"
    },
    {
     "data": {
      "image/png": "[encoded data removed]",
      "text/plain": [
       "<Figure size 504x504 with 1 Axes>"
      ]
     },
     "metadata": {},
     "output_type": "display_data"
    }
   ],
   "source": [
    "#objects of search by cleveland police\n",
    "%matplotlib inline\n",
    "from matplotlib.pyplot import *\n",
    "#set style\n",
    "style.use(\"ggplot\")\n",
    "\n",
    "#create figure and axis\n",
    "fig, ax0 = subplots(figsize = (7,7))\n",
    "\n",
    "#setting x-axis as a date\n",
    "#ax0.xaxis_date()\n",
    "df_outcome_counts.plot(kind = \"barh\", x = \"outcome_counts\", ax = ax0)"
   ]
  },
  {
   "cell_type": "code",
   "execution_count": null,
   "id": "d04e3701-e82d-40bb-8109-7001deb3b4bb",
   "metadata": {},
   "outputs": [],
   "source": []
  }
 ],
 "metadata": {
  "kernelspec": {
   "display_name": "Python 3",
   "language": "python",
   "name": "python3"
  },
  "language_info": {
   "codemirror_mode": {
    "name": "ipython",
    "version": 3
   },
   "file_extension": ".py",
   "mimetype": "text/x-python",
   "name": "python",
   "nbconvert_exporter": "python",
   "pygments_lexer": "ipython3",
   "version": "3.8.8"
  }
 },
 "nbformat": 4,
 "nbformat_minor": 5
}
